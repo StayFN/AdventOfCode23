{
 "cells": [
  {
   "cell_type": "markdown",
   "metadata": {},
   "source": [
    "--- Day 1: Trebuchet?! ---\n",
    "\n",
    "Something is wrong with global snow production, and you've been selected to take a look. The Elves have even given you a map; on it, they've used stars to mark the top fifty locations that are likely to be having problems.\n",
    "\n",
    "You've been doing this long enough to know that to restore snow operations, you need to check all fifty stars by December 25th.\n",
    "\n",
    "Collect stars by solving puzzles. Two puzzles will be made available on each day in the Advent calendar; the second puzzle is unlocked when you complete the first. Each puzzle grants one star. Good luck!\n",
    "\n",
    "You try to ask why they can't just use a weather machine (\"not powerful enough\") and where they're even sending you (\"the sky\") and why your map looks mostly blank (\"you sure ask a lot of questions\") and hang on did you just say the sky (\"of course, where do you think snow comes from\") when you realize that the Elves are already loading you into a trebuchet (\"please hold still, we need to strap you in\").\n",
    "\n",
    "As they're making the final adjustments, they discover that their calibration document (your puzzle input) has been amended by a very young Elf who was apparently just excited to show off her art skills. Consequently, the Elves are having trouble reading the values on the document.\n",
    "\n",
    "The newly-improved calibration document consists of lines of text; each line originally contained a specific calibration value that the Elves now need to recover. On each line, the calibration value can be found by combining the first digit and the last digit (in that order) to form a single two-digit number.\n",
    "\n",
    "For example:\n",
    "\n",
    "1abc2\n",
    "pqr3stu8vwx\n",
    "a1b2c3d4e5f\n",
    "treb7uchet\n",
    "\n",
    "In this example, the calibration values of these four lines are 12, 38, 15, and 77. Adding these together produces 142.\n",
    "\n",
    "Consider your entire calibration document. What is the sum of all of the calibration values?\n"
   ]
  },
  {
   "cell_type": "markdown",
   "metadata": {},
   "source": [
    "#### Input"
   ]
  },
  {
   "cell_type": "code",
   "execution_count": 79,
   "metadata": {},
   "outputs": [],
   "source": [
    "calibration_document_list = [line for line in open(\"input.txt\", \"r\")]"
   ]
  },
  {
   "cell_type": "markdown",
   "metadata": {},
   "source": [
    "#### Solution Part 1"
   ]
  },
  {
   "cell_type": "code",
   "execution_count": 10,
   "metadata": {},
   "outputs": [],
   "source": [
    "##Two Digit Number first and last\n",
    "def get_calibration_value(input):\n",
    "    first_digit = None\n",
    "    last_digit = None\n",
    "\n",
    "    for char in input:\n",
    "        if char.isdigit():\n",
    "            first_digit = char\n",
    "            break\n",
    "\n",
    "    for char in reversed(input):\n",
    "        if char.isdigit():\n",
    "            last_digit = char\n",
    "            break\n",
    "\n",
    "    return f\"{first_digit}{last_digit}\"\n"
   ]
  },
  {
   "cell_type": "code",
   "execution_count": 42,
   "metadata": {},
   "outputs": [
    {
     "name": "stdout",
     "output_type": "stream",
     "text": [
      "sum of calibration values part 1: 55447\n"
     ]
    }
   ],
   "source": [
    "calibration_value_sum = 0\n",
    "\n",
    "for document in calibration_document_list:\n",
    "    calibration_value_sum += int(get_calibration_value(document))\n",
    "\n",
    "print(f\"sum of calibration values part 1: {calibration_value_sum}\")\n"
   ]
  },
  {
   "cell_type": "markdown",
   "metadata": {},
   "source": [
    "Part 2"
   ]
  },
  {
   "cell_type": "markdown",
   "metadata": {},
   "source": [
    "--- Part Two ---\n",
    "\n",
    "Your calculation isn't quite right. It looks like some of the digits are actually spelled out with letters: one, two, three, four, five, six, seven, eight, and nine also count as valid \"digits\".\n",
    "\n",
    "Equipped with this new information, you now need to find the real first and last digit on each line. For example:\n",
    "\n",
    "two1nine\n",
    "eightwothree\n",
    "abcone2threexyz\n",
    "xtwone3four\n",
    "4nineeightseven2\n",
    "zoneight234\n",
    "7pqrstsixteen\n",
    "\n",
    "In this example, the calibration values are 29, 83, 13, 24, 42, 14, and 76. Adding these together produces 281.\n",
    "\n",
    "What is the sum of all of the calibration values?\n"
   ]
  },
  {
   "cell_type": "code",
   "execution_count": 89,
   "metadata": {},
   "outputs": [
    {
     "name": "stdout",
     "output_type": "stream",
     "text": [
      "83\n"
     ]
    }
   ],
   "source": [
    "#dictionary mapping digits spelled out in letters 0-9 to their corresponding digit\n",
    "digit_map = {\n",
    "    \"zero\": 0,\n",
    "    \"one\": 1,\n",
    "    \"two\": 2,\n",
    "    \"three\": 3,\n",
    "    \"four\": 4,\n",
    "    \"five\": 5,\n",
    "    \"six\": 6,\n",
    "    \"seven\": 7,\n",
    "    \"eight\": 8,\n",
    "    \"nine\": 9\n",
    "}\n",
    "\n",
    "def matches_digit_spelling(curr_string, digit_map=digit_map):\n",
    "    for digit_string in digit_map.keys():\n",
    "        if digit_string.startswith(curr_string):\n",
    "            return True\n",
    "\n",
    "def combined_calibration_value(input_string, digit_map=digit_map):\n",
    "    first_digit = None\n",
    "    last_digit = None\n",
    "\n",
    "    for i in range(len(input_string)):\n",
    "        for j in range(i + 1, len(input_string) + 1):\n",
    "            substr = input_string[i:j]\n",
    "\n",
    "            #String digit\n",
    "            if substr in digit_map:\n",
    "                if first_digit is None:\n",
    "                    first_digit = digit_map[substr]\n",
    "                last_digit = digit_map[substr]\n",
    "            \n",
    "            #Number digit\n",
    "            elif input_string[i].isdigit():\n",
    "                if first_digit is None:\n",
    "                    first_digit = input_string[i]\n",
    "                last_digit = input_string[i]\n",
    "                break \n",
    "\n",
    "            \n",
    "            if not matches_digit_spelling(substr):\n",
    "                break\n",
    "\n",
    "    if first_digit is not None and last_digit is not None:\n",
    "        return f\"{first_digit}{last_digit}\"\n",
    "    else:\n",
    "        return None\n",
    "\n",
    "# Example usage\n",
    "input_string = \"eighthree\"\n",
    "result = combined_calibration_value(input_string)\n",
    "print(result)  # Output should be '83'\n"
   ]
  },
  {
   "cell_type": "code",
   "execution_count": 92,
   "metadata": {},
   "outputs": [
    {
     "name": "stdout",
     "output_type": "stream",
     "text": [
      "sum of calibration values part 2: 54706\n"
     ]
    }
   ],
   "source": [
    "input_list = [line for line in open(\"input.txt\", \"r\")]\n",
    "\n",
    "sum = 0\n",
    "for item in input_list:\n",
    "    sum += int(combined_calibration_value(item))\n",
    "\n",
    "print(f\"sum of calibration values part 2: {sum}\")"
   ]
  },
  {
   "cell_type": "code",
   "execution_count": null,
   "metadata": {},
   "outputs": [],
   "source": []
  }
 ],
 "metadata": {
  "kernelspec": {
   "display_name": "aoc23_venv",
   "language": "python",
   "name": "python3"
  },
  "language_info": {
   "codemirror_mode": {
    "name": "ipython",
    "version": 3
   },
   "file_extension": ".py",
   "mimetype": "text/x-python",
   "name": "python",
   "nbconvert_exporter": "python",
   "pygments_lexer": "ipython3",
   "version": "3.10.12"
  }
 },
 "nbformat": 4,
 "nbformat_minor": 2
}
