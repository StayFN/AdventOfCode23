{
 "cells": [
  {
   "cell_type": "markdown",
   "metadata": {},
   "source": [
    "--- Day 2: Cube Conundrum ---\n",
    "\n",
    "You're launched high into the atmosphere! The apex of your trajectory just barely reaches the surface of a large island floating in the sky. You gently land in a fluffy pile of leaves. It's quite cold, but you don't see much snow. An Elf runs over to greet you.\n",
    "\n",
    "The Elf explains that you've arrived at Snow Island and apologizes for the lack of snow. He'll be happy to explain the situation, but it's a bit of a walk, so you have some time. They don't get many visitors up here; would you like to play a game in the meantime?\n",
    "\n",
    "As you walk, the Elf shows you a small bag and some cubes which are either red, green, or blue. Each time you play this game, he will hide a secret number of cubes of each color in the bag, and your goal is to figure out information about the number of cubes.\n",
    "\n",
    "To get information, once a bag has been loaded with cubes, the Elf will reach into the bag, grab a handful of random cubes, show them to you, and then put them back in the bag. He'll do this a few times per game.\n",
    "\n",
    "You play several games and record the information from each game (your puzzle input). Each game is listed with its ID number (like the 11 in Game 11: ...) followed by a semicolon-separated list of subsets of cubes that were revealed from the bag (like 3 red, 5 green, 4 blue).\n",
    "\n",
    "For example, the record of a few games might look like this:\n",
    "\n",
    "Game 1: 3 blue, 4 red; 1 red, 2 green, 6 blue; 2 green\n",
    "Game 2: 1 blue, 2 green; 3 green, 4 blue, 1 red; 1 green, 1 blue\n",
    "Game 3: 8 green, 6 blue, 20 red; 5 blue, 4 red, 13 green; 5 green, 1 red\n",
    "Game 4: 1 green, 3 red, 6 blue; 3 green, 6 red; 3 green, 15 blue, 14 red\n",
    "Game 5: 6 red, 1 blue, 3 green; 2 blue, 1 red, 2 green\n",
    "\n",
    "In game 1, three sets of cubes are revealed from the bag (and then put back again). The first set is 3 blue cubes and 4 red cubes; the second set is 1 red cube, 2 green cubes, and 6 blue cubes; the third set is only 2 green cubes.\n",
    "\n",
    "The Elf would first like to know which games would have been possible if the bag contained only 12 red cubes, 13 green cubes, and 14 blue cubes?\n",
    "\n",
    "In the example above, games 1, 2, and 5 would have been possible if the bag had been loaded with that configuration. However, game 3 would have been impossible because at one point the Elf showed you 20 red cubes at once; similarly, game 4 would also have been impossible because the Elf showed you 15 blue cubes at once. If you add up the IDs of the games that would have been possible, you get 8.\n",
    "\n",
    "Determine which games would have been possible if the bag had been loaded with only 12 red cubes, 13 green cubes, and 14 blue cubes. What is the sum of the IDs of those games?\n"
   ]
  },
  {
   "cell_type": "markdown",
   "metadata": {},
   "source": [
    "Input (Crate Dict of games with dict of red, green and blue draw lists )"
   ]
  },
  {
   "cell_type": "code",
   "execution_count": 1,
   "metadata": {},
   "outputs": [
    {
     "name": "stdout",
     "output_type": "stream",
     "text": [
      "{1: {'red': [9, 6, 5], 'green': [6, 7], 'blue': [5, 13, 2]}, 2: {'red': [6, 11, 10, 17, 20, 11], 'green': [2, 12, 11, 13, 3, 1], 'blue': [2, 17, 2, 15, 3]}, 3: {'red': [7, 18, 7, 11], 'green': [20, 20, 8, 11, 16], 'blue': [1, 7, 3, 6, 6]}, 4: {'red': [1, 1, 1, 1], 'green': [6, 5, 1, 6, 4], 'blue': [6, 2, 9, 8, 1]}, 5: {'red': [5, 18, 13], 'green': [11, 10, 13], 'blue': [4, 3, 2]}, 6: {'red': [7, 1, 11, 10], 'green': [15, 4, 13, 9], 'blue': [1, 2, 1, 2]}, 7: {'red': [1, 2, 2], 'green': [8, 2], 'blue': [1, 3, 1]}, 8: {'red': [2, 3, 2, 2, 1, 3], 'green': [5, 7, 1, 14, 12, 7], 'blue': [9, 1, 7, 4, 5, 9]}, 9: {'red': [11, 8, 13, 7], 'green': [9, 8, 9], 'blue': [6, 2, 14, 2]}, 10: {'red': [3, 4, 13, 8, 10], 'green': [4, 3, 3, 5, 3], 'blue': [3, 2, 4, 6, 5]}, 11: {'red': [4, 2, 7, 4, 6, 3], 'green': [2, 2, 3, 1], 'blue': [8, 13, 13, 8, 12, 18]}, 12: {'red': [15, 3, 6, 9], 'green': [5, 3, 4, 3], 'blue': [2, 1, 2, 4]}, 13: {'red': [3, 3, 1], 'green': [3, 1, 3, 4], 'blue': [14, 14, 4, 7]}, 14: {'red': [2, 11, 12, 4], 'green': [1, 3, 2, 3], 'blue': [4, 5, 1]}, 15: {'red': [1, 2, 3, 5], 'green': [3, 3, 10, 11], 'blue': [4, 2, 3, 3]}, 16: {'red': [5, 8, 12, 1], 'green': [12, 11, 4], 'blue': [12, 5, 5, 10, 1]}, 17: {'red': [15, 14, 4], 'green': [18, 4, 9], 'blue': [5, 5, 7]}, 18: {'red': [2, 4, 14, 11], 'green': [2, 5], 'blue': [12, 15, 5]}, 19: {'red': [4, 5, 4], 'green': [4, 7, 1], 'blue': [2, 1, 2]}, 20: {'red': [1], 'green': [5, 9, 7, 7, 7], 'blue': [1, 3, 14, 1, 2]}, 21: {'red': [8, 9, 7, 12, 9], 'green': [3, 1, 4, 1, 4], 'blue': [6, 1, 1, 5]}, 22: {'red': [1, 1, 3, 1], 'green': [2, 12, 1, 8], 'blue': [3, 5, 3, 2]}, 23: {'red': [9, 10, 1], 'green': [14, 7], 'blue': [2, 7, 7]}, 24: {'red': [19, 12, 14, 14, 18], 'green': [3, 4, 3, 3, 5], 'blue': [7, 1, 7]}, 25: {'red': [12, 12, 3], 'green': [4, 11, 11], 'blue': [3, 3, 2]}, 26: {'red': [2, 4, 3, 9, 6], 'green': [11, 1, 1], 'blue': [5, 6, 7, 1]}, 27: {'red': [10, 4, 9, 15], 'green': [7, 6, 10, 2, 9], 'blue': [8, 7, 9, 1, 11]}, 28: {'red': [2, 3, 7], 'green': [8, 10, 11, 6, 2], 'blue': [3, 1, 5, 3]}, 29: {'red': [18, 3, 2, 15, 1, 17], 'green': [7, 16, 6, 6], 'blue': [1, 4, 1, 3, 1]}, 30: {'red': [10, 10, 4], 'green': [13, 2, 2], 'blue': [6, 4, 2]}, 31: {'red': [5, 5, 5, 3], 'green': [13, 5, 3, 2], 'blue': [5, 12, 5, 14]}, 32: {'red': [14, 11, 9, 3, 6, 12], 'green': [13, 3, 2, 2, 8, 4], 'blue': [2, 1, 2, 5, 4, 5]}, 33: {'red': [1, 1], 'green': [1, 1], 'blue': [15, 4, 5]}, 34: {'red': [3, 11, 3], 'green': [1], 'blue': [2, 10, 6]}, 35: {'red': [3, 8, 5, 2, 1, 5], 'green': [1, 1, 2], 'blue': [2, 9, 2, 2, 10, 9]}, 36: {'red': [1, 7, 1, 1], 'green': [8, 5, 10, 10], 'blue': [2, 9, 13]}, 37: {'red': [1, 2, 6, 7, 2], 'green': [1, 2, 2], 'blue': [1]}, 38: {'red': [8, 11, 7, 2], 'green': [7, 6, 18, 12], 'blue': [11, 10, 13, 7]}, 39: {'red': [8, 11, 12, 6, 6], 'green': [2, 2, 1, 1], 'blue': [4, 1, 3, 9, 1]}, 40: {'red': [17, 4, 10, 2, 6, 9], 'green': [2, 7, 1, 6, 4, 5], 'blue': [2, 4, 1, 4]}, 41: {'red': [1, 5, 1, 5, 4], 'green': [3, 1, 1], 'blue': [8, 3, 8, 9, 3, 3]}, 42: {'red': [1, 1, 1, 1], 'green': [7, 1, 2, 4, 1], 'blue': [10, 11, 17, 3, 11]}, 43: {'red': [1, 14, 2, 3, 9, 2], 'green': [5, 3, 7, 10, 5, 8], 'blue': [5, 11, 4, 3, 3]}, 44: {'red': [1, 2, 2, 14, 1], 'green': [2, 2, 2, 1, 2], 'blue': [10, 5, 5, 7, 5]}, 45: {'red': [7, 8, 10, 13, 3], 'green': [16, 9, 7, 15, 12], 'blue': [11, 6, 8, 8]}, 46: {'red': [7, 5, 2], 'green': [2, 3, 2, 3], 'blue': [4, 7, 2, 8]}, 47: {'red': [5, 5, 8, 5, 3, 3], 'green': [4, 4, 4, 5, 2], 'blue': [6, 5, 4, 5, 5]}, 48: {'red': [2, 3, 3], 'green': [7, 8], 'blue': [11, 1]}, 49: {'red': [3, 4, 6, 2], 'green': [1, 1, 10], 'blue': [8, 2, 10]}, 50: {'red': [1, 2, 7, 7, 3], 'green': [8, 8, 5, 6], 'blue': [1, 1, 1]}, 51: {'red': [6, 10, 12, 11], 'green': [3], 'blue': [10, 5, 3]}, 52: {'red': [7, 1, 8, 5, 8], 'green': [11, 8, 16, 6, 10, 12], 'blue': [3, 9, 2, 8, 3, 9]}, 53: {'red': [11, 12, 5, 5, 11, 4], 'green': [1, 1, 1, 1], 'blue': [4, 6, 12, 11, 1, 8]}, 54: {'red': [8, 5, 2, 1, 5], 'green': [2, 2], 'blue': [3, 2, 3, 9]}, 55: {'red': [5, 8, 2], 'green': [1, 11, 13], 'blue': [11, 16, 16]}, 56: {'red': [6, 6, 6, 3], 'green': [8, 9, 3, 4], 'blue': [6, 10, 13, 5]}, 57: {'red': [1], 'green': [6, 1, 14], 'blue': [6, 1]}, 58: {'red': [1, 1, 1], 'green': [3], 'blue': [1, 1]}, 59: {'red': [10, 6, 8], 'green': [5, 1, 3, 4], 'blue': [2, 2, 1]}, 60: {'red': [2, 1, 5, 1, 4], 'green': [8, 3, 2, 13, 6], 'blue': [1, 1, 1, 1]}, 61: {'red': [2, 15, 20, 7, 8], 'green': [2, 1, 1], 'blue': [3, 2, 5]}, 62: {'red': [12, 11, 7, 7], 'green': [4, 13, 6, 11], 'blue': [14, 3, 16, 10]}, 63: {'red': [8, 1, 8, 2, 10, 11], 'green': [2, 1, 1], 'blue': [3, 2, 5, 5, 3]}, 64: {'red': [2, 3, 1, 1, 1], 'green': [4, 4, 4, 7, 2], 'blue': [12, 5, 9, 7, 10]}, 65: {'red': [1, 4, 3, 1, 3], 'green': [2, 3, 5, 2], 'blue': [4, 1, 15, 3]}, 66: {'red': [1, 3, 9, 5, 5], 'green': [1, 1, 1, 2, 3], 'blue': [7, 1, 2, 2, 3, 1]}, 67: {'red': [3, 1], 'green': [6, 17, 9, 2, 15], 'blue': [5, 3, 4]}, 68: {'red': [11, 8, 8, 7], 'green': [8, 17, 5, 18, 6], 'blue': [1, 3, 2]}, 69: {'red': [2, 4, 11, 9, 1, 10], 'green': [12, 14, 15, 15, 5, 20], 'blue': [13, 1, 5, 4, 13]}, 70: {'red': [6, 1, 2, 1, 7], 'green': [8, 17, 6, 14, 16], 'blue': [7, 5, 3, 7, 6]}, 71: {'red': [3, 11, 11], 'green': [3, 2], 'blue': [3, 1, 1]}, 72: {'red': [9, 20, 11, 2, 18], 'green': [1, 3, 4, 7, 7], 'blue': [17, 2, 14, 12, 13]}, 73: {'red': [1, 5, 3], 'green': [6, 6], 'blue': [12, 10, 17]}, 74: {'red': [13, 1, 7, 1], 'green': [1, 2, 2, 1], 'blue': [2, 2, 1]}, 75: {'red': [10, 9], 'green': [2, 4, 1], 'blue': [3]}, 76: {'red': [1, 6, 2, 1], 'green': [3, 4, 12, 5], 'blue': [1, 3, 9, 1]}, 77: {'red': [4, 5, 6], 'green': [11, 8, 11, 1], 'blue': [3, 7, 3]}, 78: {'red': [3], 'green': [5, 7, 7], 'blue': [15, 9, 2]}, 79: {'red': [6, 2, 4, 1, 3], 'green': [9, 14, 17, 2, 3], 'blue': [4, 4, 2, 2]}, 80: {'red': [1, 1, 3, 4, 2], 'green': [1, 15, 20, 15, 3, 18], 'blue': [1, 1]}, 81: {'red': [13, 19, 4, 10, 5, 12], 'green': [1, 1], 'blue': [4, 13, 13, 8, 13, 7]}, 82: {'red': [5, 4, 5, 3], 'green': [3, 1, 5], 'blue': [3, 9, 19, 10]}, 83: {'red': [9, 11, 18], 'green': [5, 1, 6], 'blue': [3, 1, 2]}, 84: {'red': [5, 1], 'green': [2, 6, 3], 'blue': [1]}, 85: {'red': [6, 5, 10, 10, 5, 6], 'green': [9, 7, 2, 8, 6], 'blue': [2, 15, 2, 6, 12, 5]}, 86: {'red': [12, 3, 2, 3, 5, 14], 'green': [3, 1, 1, 1, 3], 'blue': [2, 2, 2, 7, 2, 4]}, 87: {'red': [3, 1, 10, 5], 'green': [1, 1, 3], 'blue': [3, 2, 3, 2]}, 88: {'red': [9, 11, 14, 8, 9], 'green': [9, 2, 1, 7, 8], 'blue': [3, 9, 11, 2, 11, 3]}, 89: {'red': [3, 4, 5, 2, 2, 4], 'green': [16, 3, 5, 5, 4, 1], 'blue': [1, 5, 3, 8, 1, 6]}, 90: {'red': [8, 5, 6], 'green': [7, 7, 4], 'blue': [1]}, 91: {'red': [6, 9, 1], 'green': [3, 2, 3], 'blue': [4, 10, 12, 4]}, 92: {'red': [16, 6, 3, 6, 10], 'green': [12, 14, 3, 15, 14], 'blue': [8, 4, 10, 9, 9]}, 93: {'red': [4, 6, 7, 17, 13], 'green': [9, 2, 10], 'blue': [4, 2, 1, 7, 2]}, 94: {'red': [10, 9, 14], 'green': [4, 1], 'blue': [3]}, 95: {'red': [5, 11, 4, 5, 1, 7], 'green': [9, 6, 1, 13, 12, 7], 'blue': [3, 3, 6]}, 96: {'red': [2], 'green': [5, 3], 'blue': [6, 2, 14]}, 97: {'red': [5, 9, 6, 17, 11], 'green': [2, 2, 1, 2], 'blue': [1, 8, 8, 1, 10]}, 98: {'red': [3, 4, 1, 3], 'green': [2, 3, 2], 'blue': [12, 4, 11, 1]}, 99: {'red': [9, 8, 13, 6, 2], 'green': [2, 4, 10, 11], 'blue': [9, 8, 8, 13]}, 100: {'red': [7, 14, 3, 10, 4], 'green': [2, 15, 8, 8], 'blue': [5, 1, 3, 6, 6]}}\n"
     ]
    }
   ],
   "source": [
    "def parse_game_data(file_path):\n",
    "    games = {}\n",
    "    with open(file_path, 'r') as file:\n",
    "        for line in file:\n",
    "            parts = line.strip().split(': ')\n",
    "            game_id = int(parts[0].split()[1])\n",
    "            games[game_id] = {'red': [], 'green': [], 'blue': []}\n",
    "            for round_info in parts[1].split('; '):\n",
    "                for color_info in round_info.split(', '):\n",
    "                    if color_info:\n",
    "                        count, color = color_info.split()\n",
    "                        games[game_id][color].append(int(count))\n",
    "    return games\n",
    "\n",
    "game_data = parse_game_data(\"input.txt\")\n",
    "print(game_data)\n"
   ]
  },
  {
   "cell_type": "markdown",
   "metadata": {},
   "source": [
    "Solution Part 1"
   ]
  },
  {
   "cell_type": "code",
   "execution_count": 17,
   "metadata": {},
   "outputs": [
    {
     "name": "stdout",
     "output_type": "stream",
     "text": [
      "2278\n"
     ]
    }
   ],
   "source": [
    "#Cubes in Bag\n",
    "red_cubes = 12\n",
    "green_cubes = 13\n",
    "blue_cubes = 14\n",
    "\n",
    "possible_games = []\n",
    "\n",
    "for game in game_data:\n",
    "    skip_game = False\n",
    "\n",
    "    for cubes in game_data[game]['red']:\n",
    "        if cubes > red_cubes:\n",
    "            skip_game = True\n",
    "            break\n",
    "\n",
    "    if not skip_game:\n",
    "        for cubes in game_data[game]['green']:\n",
    "            if cubes > green_cubes:\n",
    "                skip_game = True\n",
    "                break\n",
    "\n",
    "    if not skip_game:\n",
    "        for cubes in game_data[game]['blue']:\n",
    "            if cubes > blue_cubes:\n",
    "                skip_game = True\n",
    "                break  \n",
    "\n",
    "    if not skip_game:\n",
    "        possible_games.append(game)\n",
    "\n",
    "print(sum(possible_games))"
   ]
  },
  {
   "cell_type": "markdown",
   "metadata": {},
   "source": [
    "Solution Part 2"
   ]
  },
  {
   "cell_type": "code",
   "execution_count": 20,
   "metadata": {},
   "outputs": [
    {
     "name": "stdout",
     "output_type": "stream",
     "text": [
      "67953\n"
     ]
    }
   ],
   "source": [
    "cube_powers = []\n",
    "\n",
    "for game in game_data:\n",
    "    min_cube_red, min_cube_green, min_cube_blue = 0,0,0\n",
    "\n",
    "    for cubes in game_data[game]['red']:\n",
    "        if cubes > min_cube_red:\n",
    "            min_cube_red = cubes\n",
    "\n",
    "    for cubes in game_data[game]['green']:\n",
    "        if cubes > min_cube_green:\n",
    "            min_cube_green = cubes\n",
    "\n",
    "    for cubes in game_data[game]['blue']:\n",
    "        if cubes > min_cube_blue:\n",
    "            min_cube_blue = cubes\n",
    "\n",
    "    cube_powers.append(min_cube_red*min_cube_green*min_cube_blue)\n",
    "\n",
    "\n",
    "print(sum(cube_powers))\n",
    "    \n"
   ]
  },
  {
   "cell_type": "code",
   "execution_count": null,
   "metadata": {},
   "outputs": [],
   "source": []
  }
 ],
 "metadata": {
  "kernelspec": {
   "display_name": "aoc23_venv",
   "language": "python",
   "name": "python3"
  },
  "language_info": {
   "codemirror_mode": {
    "name": "ipython",
    "version": 3
   },
   "file_extension": ".py",
   "mimetype": "text/x-python",
   "name": "python",
   "nbconvert_exporter": "python",
   "pygments_lexer": "ipython3",
   "version": "3.10.12"
  }
 },
 "nbformat": 4,
 "nbformat_minor": 2
}
