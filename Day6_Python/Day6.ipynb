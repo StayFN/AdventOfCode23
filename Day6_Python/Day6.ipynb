{
 "cells": [
  {
   "cell_type": "markdown",
   "metadata": {},
   "source": [
    "### Part 1"
   ]
  },
  {
   "cell_type": "code",
   "execution_count": 6,
   "metadata": {},
   "outputs": [],
   "source": [
    "#For each second of chrage_time speed increases 1mm/s  \n",
    "def calculate_distance(charge_time, total_time):\n",
    "    speed = charge_time #1s charge time = +1mm/s speed\n",
    "    distance = (total_time - charge_time) * speed\n",
    "    return distance\n",
    "\n",
    "def calculate_ways_to_beat_record(total_time, record_distance):\n",
    "    ways = 0\n",
    "    for i in range(total_time):\n",
    "        if calculate_distance(i, total_time) > record_distance:\n",
    "            ways += 1\n",
    "\n",
    "    return ways\n",
    "\n"
   ]
  },
  {
   "cell_type": "code",
   "execution_count": 9,
   "metadata": {},
   "outputs": [],
   "source": [
    "time_distance_dict = {\n",
    "    47:207,\n",
    "    84:1394,\n",
    "    74:1209,\n",
    "    67:1014\n",
    "}\n",
    "time_distance_dict_2 = {\n",
    "    7:9,\n",
    "    15:40,\n",
    "    30:200\n",
    "}\n"
   ]
  },
  {
   "cell_type": "code",
   "execution_count": 10,
   "metadata": {},
   "outputs": [
    {
     "name": "stdout",
     "output_type": "stream",
     "text": [
      "741000\n"
     ]
    }
   ],
   "source": [
    "solution = 1\n",
    "for key in time_distance_dict:\n",
    "    ways_to_beat = calculate_ways_to_beat_record(key, time_distance_dict[key])\n",
    "    if ways_to_beat > 0:\n",
    "        solution *= ways_to_beat\n",
    "\n",
    "print(solution)"
   ]
  },
  {
   "cell_type": "markdown",
   "metadata": {},
   "source": [
    "### Part 2"
   ]
  },
  {
   "cell_type": "code",
   "execution_count": 11,
   "metadata": {},
   "outputs": [],
   "source": [
    "solution = calculate_ways_to_beat_record(71530, 940200)"
   ]
  },
  {
   "cell_type": "code",
   "execution_count": 13,
   "metadata": {},
   "outputs": [],
   "source": [
    "solution_2 = calculate_ways_to_beat_record(47847467,207139412091014)"
   ]
  },
  {
   "cell_type": "code",
   "execution_count": 15,
   "metadata": {},
   "outputs": [
    {
     "data": {
      "text/plain": [
       "38220708"
      ]
     },
     "execution_count": 15,
     "metadata": {},
     "output_type": "execute_result"
    }
   ],
   "source": [
    "solution_2"
   ]
  },
  {
   "cell_type": "code",
   "execution_count": null,
   "metadata": {},
   "outputs": [],
   "source": []
  }
 ],
 "metadata": {
  "kernelspec": {
   "display_name": "pytorch",
   "language": "python",
   "name": "python3"
  },
  "language_info": {
   "codemirror_mode": {
    "name": "ipython",
    "version": 3
   },
   "file_extension": ".py",
   "mimetype": "text/x-python",
   "name": "python",
   "nbconvert_exporter": "python",
   "pygments_lexer": "ipython3",
   "version": "3.12.3"
  }
 },
 "nbformat": 4,
 "nbformat_minor": 2
}
