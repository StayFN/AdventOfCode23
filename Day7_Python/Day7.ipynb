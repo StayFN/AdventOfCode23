{
 "cells": [
  {
   "cell_type": "markdown",
   "metadata": {},
   "source": [
    "### Part 1"
   ]
  },
  {
   "cell_type": "code",
   "execution_count": 40,
   "metadata": {},
   "outputs": [],
   "source": [
    "card_value_dic = {\n",
    "    \"2\" : 0,\n",
    "    \"3\" : 1,\n",
    "    \"4\" : 2,\n",
    "    \"5\" : 3,\n",
    "    \"6\" : 4,\n",
    "    \"7\" : 5,\n",
    "    \"8\" : 6,\n",
    "    \"9\" : 7,\n",
    "    \"T\" : 8,\n",
    "    \"J\" : 9,\n",
    "    \"Q\" : 10,\n",
    "    \"K\" : 11,\n",
    "    \"A\" : 12\n",
    "}"
   ]
  },
  {
   "cell_type": "code",
   "execution_count": 41,
   "metadata": {},
   "outputs": [],
   "source": [
    "from dataclasses import dataclass\n",
    "from collections import Counter\n",
    "\n",
    "@dataclass\n",
    "class Hand:\n",
    "    cards: list\n",
    "    bid: int\n",
    "\n",
    "    hand_type_ranking = {\n",
    "        \"Five of a Kind\": 6,\n",
    "        \"Four of a Kind\": 5,\n",
    "        \"Full House\": 4,\n",
    "        \"Three of a Kind\": 3,\n",
    "        \"Two Pair\": 2,\n",
    "        \"One Pair\": 1,\n",
    "        \"High Card\": 0\n",
    "    }\n",
    "\n",
    "    def hand_type(self):\n",
    "        counts = Counter(self.cards).values()  # Count occurrences of each card\n",
    "        counts_sorted = sorted(counts, reverse=True)  # Sort frequencies descending\n",
    "\n",
    "        # Determine hand type\n",
    "        if counts_sorted == [5]:\n",
    "            return \"Five of a Kind\"\n",
    "        elif counts_sorted == [4, 1]:  # Four of a Kind\n",
    "            return \"Four of a Kind\"\n",
    "        elif counts_sorted == [3, 2]:  # Full House\n",
    "            return \"Full House\"\n",
    "        elif counts_sorted == [3, 1, 1]:  # Three of a Kind\n",
    "            return \"Three of a Kind\"\n",
    "        elif counts_sorted == [2, 2, 1]:  # Two Pair\n",
    "            return \"Two Pair\"\n",
    "        elif counts_sorted == [2, 1, 1, 1]:  # One Pair\n",
    "            return \"One Pair\"\n",
    "        else:  # High Card (no pairs or better)\n",
    "            return \"High Card\"\n",
    "        \n",
    "    \n",
    "    def rank(self):\n",
    "        \"\"\"\n",
    "        Generate a tuple that represents the hand's rank:\n",
    "        - First element: Hand type ranking.\n",
    "        - Second element: The original card values for tie-breaking (unsorted).\n",
    "        \"\"\"\n",
    "        hand_type = self.hand_type()\n",
    "        hand_rank = self.hand_type_ranking[hand_type]\n",
    "\n",
    "        # Use original card order for tie-breaking\n",
    "        return (hand_rank, self.cards)\n",
    "\n",
    "    def __lt__(self, other):\n",
    "        \"\"\"\n",
    "        Compare two hands:\n",
    "        - First by hand type rank.\n",
    "        - Then compare card lists one by one in the original order for tie-breaking.\n",
    "        \"\"\"\n",
    "        self_rank, self_cards = self.rank()\n",
    "        other_rank, other_cards = other.rank()\n",
    "\n",
    "        # Compare hand types first\n",
    "        if self_rank != other_rank:\n",
    "            return self_rank < other_rank\n",
    "\n",
    "        # Tie-breaking: Compare cards one by one in original order\n",
    "        for self_card, other_card in zip(self_cards, other_cards):\n",
    "            if self_card != other_card:\n",
    "                return self_card < other_card\n",
    "\n",
    "        # If all cards are equal, hands are tied (unlikely in most games)\n",
    "        return False"
   ]
  },
  {
   "cell_type": "code",
   "execution_count": 47,
   "metadata": {},
   "outputs": [],
   "source": [
    "def read_hands(filepath) -> list[Hand]:\n",
    "    hands = []\n",
    "    with open(filepath) as f:\n",
    "        for line in f:\n",
    "            (cards, bid) = line.split(sep=' ')\n",
    "            bid = int(bid.rstrip())\n",
    "            converted_cards = [card_value_dic[card] for card in cards]\n",
    "            hands.append(Hand(converted_cards, bid))\n",
    "\n",
    "    return hands\n",
    "\n",
    "\n",
    "hands = read_hands('input.txt')"
   ]
  },
  {
   "cell_type": "code",
   "execution_count": 48,
   "metadata": {},
   "outputs": [],
   "source": [
    "sorted_hands = sorted(hands)"
   ]
  },
  {
   "cell_type": "code",
   "execution_count": 49,
   "metadata": {},
   "outputs": [],
   "source": [
    "seen = set()\n",
    "for hand in sorted_hands:\n",
    "    cards_tuple = tuple(hand.cards)\n",
    "    if cards_tuple in seen:\n",
    "        print(f\"Duplicate found: {hand.cards}\")\n",
    "    seen.add(cards_tuple)"
   ]
  },
  {
   "cell_type": "code",
   "execution_count": 50,
   "metadata": {},
   "outputs": [
    {
     "name": "stdout",
     "output_type": "stream",
     "text": [
      "253910319\n"
     ]
    }
   ],
   "source": [
    "total_winnings = 0\n",
    "rank = 1\n",
    "for hand in sorted_hands:\n",
    "    total_winnings += hand.bid * rank\n",
    "    rank += 1\n",
    "\n",
    "print(total_winnings)"
   ]
  },
  {
   "cell_type": "markdown",
   "metadata": {},
   "source": [
    "Part Two"
   ]
  },
  {
   "cell_type": "code",
   "execution_count": null,
   "metadata": {},
   "outputs": [],
   "source": []
  }
 ],
 "metadata": {
  "kernelspec": {
   "display_name": "pytorch",
   "language": "python",
   "name": "python3"
  },
  "language_info": {
   "codemirror_mode": {
    "name": "ipython",
    "version": 3
   },
   "file_extension": ".py",
   "mimetype": "text/x-python",
   "name": "python",
   "nbconvert_exporter": "python",
   "pygments_lexer": "ipython3",
   "version": "3.12.3"
  }
 },
 "nbformat": 4,
 "nbformat_minor": 2
}
