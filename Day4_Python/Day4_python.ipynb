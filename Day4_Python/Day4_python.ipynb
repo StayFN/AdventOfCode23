{
 "cells": [
  {
   "cell_type": "code",
   "execution_count": 1,
   "metadata": {},
   "outputs": [],
   "source": [
    "with open(\"input.txt\") as f:\n",
    "    lines = f.readlines()\n",
    "    lines = [line.strip() for line in lines]\n"
   ]
  },
  {
   "cell_type": "code",
   "execution_count": 73,
   "metadata": {},
   "outputs": [],
   "source": [
    "from dataclasses import dataclass, field\n",
    "from typing import List\n",
    "\n",
    "@dataclass\n",
    "class Game:\n",
    "    id: int\n",
    "    winning_cards: list[int] = field(default_factory=list)\n",
    "    my_cards: list[int] = field(default_factory=list)\n"
   ]
  },
  {
   "cell_type": "code",
   "execution_count": 74,
   "metadata": {},
   "outputs": [],
   "source": [
    "def parse_game_string(game_string: str) -> Game:\n",
    "    parts = game_string.split('|')\n",
    "    id_part, winning_cards_part = parts[0].split(':')\n",
    "    game_id = int(id_part.split()[1])\n",
    "    winning_cards = list(map(int, winning_cards_part.strip().split()))\n",
    "    my_cards = list(map(int, parts[1].strip().split()))\n",
    "    return Game(id=game_id, winning_cards=winning_cards, my_cards=my_cards)"
   ]
  },
  {
   "cell_type": "code",
   "execution_count": 75,
   "metadata": {},
   "outputs": [],
   "source": [
    "games = [parse_game_string(line) for line in lines]"
   ]
  },
  {
   "cell_type": "code",
   "execution_count": 76,
   "metadata": {},
   "outputs": [],
   "source": [
    "def get_points(my_cards, winning_cards):\n",
    "    if not any(card in winning_cards for card in my_cards):\n",
    "        return 0\n",
    "\n",
    "    score = 0\n",
    "    for my_card in my_cards:\n",
    "        if my_card in winning_cards:\n",
    "            if score == 0:\n",
    "                score = 1\n",
    "            else:\n",
    "                score *= 2\n",
    "    return score"
   ]
  },
  {
   "cell_type": "code",
   "execution_count": 107,
   "metadata": {},
   "outputs": [
    {
     "data": {
      "text/plain": [
       "26914"
      ]
     },
     "execution_count": 107,
     "metadata": {},
     "output_type": "execute_result"
    }
   ],
   "source": [
    "sum_points = 0\n",
    "\n",
    "for game in games:\n",
    "    sum_points += get_points(game.my_cards, game.winning_cards)\n",
    "\n",
    "sum_points"
   ]
  },
  {
   "cell_type": "markdown",
   "metadata": {},
   "source": [
    "### Part 2\n",
    "You actually don't win points you just win more scratchcards\n",
    "\n",
    "specificalaly you win *copies* of scratchcards below the winning card, equal to the number of matches. So if Card 10 were to have 5 matching numbers, you would win one copy of each cards 11, 12 ,13 ,14 ,15\n",
    "\n",
    "ID of copy cards is the SAME \n",
    "\n",
    "This repeats until none of the copies cause you to win anymore cards\n",
    "\n",
    "\n",
    "how many scratchcards do you end up with?\n",
    "\n"
   ]
  },
  {
   "cell_type": "code",
   "execution_count": 10,
   "metadata": {},
   "outputs": [],
   "source": [
    "def read_input(input):\n",
    "    cards = []\n",
    "\n",
    "    for line in input.splitlines():\n",
    "        winners, numbers = line.split(': ')[1].split(' | ')\n",
    "        cards.append((winners.split(), numbers.split()))\n",
    "\n",
    "    return cards\n",
    "\n",
    "\n",
    "def get_sum_cards(input): \n",
    "    cards = [1] * len(input)\n",
    "\n",
    "    for (i, card) in enumerate(input):\n",
    "        for j in range(i + 1, i + 1 + len(set(card[0]) & set(card[1]))):\n",
    "            cards[j] += 1 * cards[i]\n",
    "\n",
    "    return sum(cards)\n"
   ]
  },
  {
   "cell_type": "code",
   "execution_count": 11,
   "metadata": {},
   "outputs": [
    {
     "data": {
      "text/plain": [
       "13080971"
      ]
     },
     "execution_count": 11,
     "metadata": {},
     "output_type": "execute_result"
    }
   ],
   "source": [
    "get_sum_cards(read_input(open('input.txt').read()))"
   ]
  },
  {
   "cell_type": "code",
   "execution_count": null,
   "metadata": {},
   "outputs": [],
   "source": []
  }
 ],
 "metadata": {
  "kernelspec": {
   "display_name": "aoc23_venv",
   "language": "python",
   "name": "python3"
  },
  "language_info": {
   "codemirror_mode": {
    "name": "ipython",
    "version": 3
   },
   "file_extension": ".py",
   "mimetype": "text/x-python",
   "name": "python",
   "nbconvert_exporter": "python",
   "pygments_lexer": "ipython3",
   "version": "3.10.12"
  }
 },
 "nbformat": 4,
 "nbformat_minor": 2
}
