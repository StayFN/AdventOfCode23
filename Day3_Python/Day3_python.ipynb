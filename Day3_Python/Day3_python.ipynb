{
 "cells": [
  {
   "cell_type": "markdown",
   "metadata": {},
   "source": [
    "--- Day 3: Gear Ratios ---\n",
    "\n",
    "You and the Elf eventually reach a gondola lift station; he says the gondola lift will take you up to the water source, but this is as far as he can bring you. You go inside.\n",
    "\n",
    "It doesn't take long to find the gondolas, but there seems to be a problem: they're not moving.\n",
    "\n",
    "\"Aaah!\"\n",
    "\n",
    "You turn around to see a slightly-greasy Elf with a wrench and a look of surprise. \"Sorry, I wasn't expecting anyone! The gondola lift isn't working right now; it'll still be a while before I can fix it.\" You offer to help.\n",
    "\n",
    "The engineer explains that an engine part seems to be missing from the engine, but nobody can figure out which one. If you can add up all the part numbers in the engine schematic, it should be easy to work out which part is missing.\n",
    "\n",
    "The engine schematic (your puzzle input) consists of a visual representation of the engine. There are lots of numbers and symbols you don't really understand, but apparently any number adjacent to a symbol, even diagonally, is a \"part number\" and should be included in your sum. (Periods (.) do not count as a symbol.)\n",
    "\n",
    "(Example see Input see next Cell)\n",
    "\n",
    "In this schematic, two numbers are not part numbers because they are not adjacent to a symbol: 114 (top right) and 58 (middle right). Every other number is adjacent to a symbol and so is a part number; their sum is 4361.\n",
    "\n",
    "Of course, the actual engine schematic is much larger. What is the sum of all of the part numbers in the engine schematic?\n"
   ]
  },
  {
   "cell_type": "code",
   "execution_count": 107,
   "metadata": {},
   "outputs": [],
   "source": [
    "input_str = \"\"\"467..114..\n",
    "...*......\n",
    "..35..633.\n",
    "......#...\n",
    "617*......\n",
    ".....+.58.\n",
    "..592.....\n",
    "......755.\n",
    "...$.*....\n",
    ".664.598..\"\"\""
   ]
  },
  {
   "cell_type": "code",
   "execution_count": 108,
   "metadata": {},
   "outputs": [],
   "source": [
    "def read_input(input_str):\n",
    "    lines = input_str.split('\\n')\n",
    "    lines = [line for line in lines if line.strip()]\n",
    "    return lines\n",
    "\n",
    "def init_2d_array(lines):\n",
    "    array_2d = []\n",
    "    for line  in lines:\n",
    "        row = []\n",
    "        for char in line:\n",
    "            row.append(char)\n",
    "        array_2d.append(row)\n",
    "    return array_2d\n",
    "\n",
    "def read_input_from_file(file_path):\n",
    "    with open(file_path, 'r') as file:\n",
    "        lines = file.readlines()\n",
    "        lines = [line.strip() for line in lines]\n",
    "    return lines"
   ]
  },
  {
   "cell_type": "code",
   "execution_count": 109,
   "metadata": {},
   "outputs": [],
   "source": [
    "## Cases for Adjacency\n",
    "# Left (x-1, y)\n",
    "# Right (x+1, y)\n",
    "# Up (x, y-1)\n",
    "# Down (x, y+1)\n",
    "# Up-Left (x-1, y-1)\n",
    "# Up-Right (x+1, y-1)\n",
    "# Down-Left (x-1, y+1)\n",
    "# Down-Right (x+1, y+1)\n",
    "\n",
    "\n",
    "\n",
    "def has_adjacent_symbol(arr_2d, x, y):\n",
    "    rows = len(arr_2d)\n",
    "    cols = len(arr_2d[0]) if rows > 0 else 0\n",
    "\n",
    "    if x > 0 and not (arr_2d[x-1][y].isdigit() or arr_2d[x-1][y] == \".\"):\n",
    "        return True\n",
    "    if x < rows - 1 and not (arr_2d[x+1][y].isdigit() or arr_2d[x+1][y] == \".\"):\n",
    "        return True\n",
    "    if y > 0 and not (arr_2d[x][y-1].isdigit() or arr_2d[x][y-1] == \".\"):\n",
    "        return True\n",
    "    if y < cols - 1 and not (arr_2d[x][y+1].isdigit() or arr_2d[x][y+1] == \".\"):\n",
    "        return True\n",
    "    if x > 0 and y > 0 and not (arr_2d[x-1][y-1].isdigit() or arr_2d[x-1][y-1] == \".\"):\n",
    "        return True\n",
    "    if x < rows - 1 and y > 0 and not (arr_2d[x+1][y-1].isdigit() or arr_2d[x+1][y-1] == \".\"):\n",
    "        return True\n",
    "    if x > 0 and y < cols - 1 and not (arr_2d[x-1][y+1].isdigit() or arr_2d[x-1][y+1] == \".\"):\n",
    "        return True\n",
    "    if x < rows - 1 and y < cols - 1 and not (arr_2d[x+1][y+1].isdigit() or arr_2d[x+1][y+1] == \".\"):\n",
    "        return True\n",
    "\n",
    "    return False\n",
    "\n",
    "def get_part_numbers(arr_2d):\n",
    "    part_numbers = []\n",
    "    for i in range(len(arr_2d)):\n",
    "        currnum = \"\"\n",
    "        for j in range(len(arr_2d[i])):\n",
    "            if arr_2d[i][j].isdigit():\n",
    "                currnum += arr_2d[i][j]\n",
    "                # Special check for EOL Numbers (didnt work before since i was checking after the number ended)\n",
    "                if j == len(arr_2d[i]) - 1 and currnum:\n",
    "                    if has_adjacent_symbol(arr_2d, i, j - len(currnum) + 1):\n",
    "                        part_numbers.append(int(currnum))\n",
    "                    currnum = \"\"\n",
    "            else:\n",
    "                if currnum:\n",
    "                    # Check for symbol adjacent to any digit of the number\n",
    "                    for k in range(len(currnum)):\n",
    "                        if has_adjacent_symbol(arr_2d, i, j - k - 1):\n",
    "                            part_numbers.append(int(currnum))\n",
    "                            break\n",
    "                    currnum = \"\"\n",
    "\n",
    "    return part_numbers\n",
    "                    "
   ]
  },
  {
   "cell_type": "code",
   "execution_count": 113,
   "metadata": {},
   "outputs": [
    {
     "data": {
      "text/plain": [
       "527364"
      ]
     },
     "execution_count": 113,
     "metadata": {},
     "output_type": "execute_result"
    }
   ],
   "source": [
    "input_file_path = 'input.txt'\n",
    "lines = read_input_from_file(input_file_path)\n",
    "array_2d = init_2d_array(lines)\n",
    "sum(get_part_numbers(array_2d))"
   ]
  },
  {
   "cell_type": "code",
   "execution_count": 114,
   "metadata": {},
   "outputs": [
    {
     "data": {
      "text/plain": [
       "79026871"
      ]
     },
     "execution_count": 114,
     "metadata": {},
     "output_type": "execute_result"
    }
   ],
   "source": [
    "def calculate_gear_ratios_fixed(arr_2d):\n",
    "    gear_ratios = []\n",
    "    \n",
    "    def extract_full_number(x, y):\n",
    "        number = \"\"\n",
    "        original_y = y\n",
    "        while y > 0 and arr_2d[x][y-1].isdigit():\n",
    "            y -= 1\n",
    "        # Extract the full number\n",
    "        while y < len(arr_2d[0]) and arr_2d[x][y].isdigit():\n",
    "            number += arr_2d[x][y]\n",
    "            y += 1\n",
    "        # To prevent double counting, mark the entire number as non-digit if it was used\n",
    "        if y != original_y:\n",
    "            for mark_y in range(y - len(number), y):\n",
    "                arr_2d[x][mark_y] = 'X'  # Replacing digits with 'X' to avoid re-counting\n",
    "        return int(number) if number else 0\n",
    "\n",
    "    for i in range(len(arr_2d)):\n",
    "        for j in range(len(arr_2d[i])):\n",
    "            if arr_2d[i][j] == '*':\n",
    "                # Find all unique part numbers adjacent to the gear\n",
    "                adjacent_numbers = []\n",
    "                for dx in [-1, 0, 1]:\n",
    "                    for dy in [-1, 0, 1]:\n",
    "                        if dx == 0 and dy == 0:\n",
    "                            continue\n",
    "                        ni, nj = i + dx, j + dy\n",
    "                        if 0 <= ni < len(arr_2d) and 0 <= nj < len(arr_2d[0]) and arr_2d[ni][nj].isdigit():\n",
    "                            number = extract_full_number(ni, nj)\n",
    "                            if number not in adjacent_numbers:\n",
    "                                adjacent_numbers.append(number)\n",
    "\n",
    "                # Calculate the gear ratio if there are exactly two adjacent part numbers\n",
    "                if len(adjacent_numbers) == 2:\n",
    "                    gear_ratio = adjacent_numbers[0] * adjacent_numbers[1]\n",
    "                    gear_ratios.append(gear_ratio)\n",
    "\n",
    "    return sum(gear_ratios)\n",
    "\n",
    "sum_gear_ratios_fixed = calculate_gear_ratios_fixed(array_2d)\n",
    "sum_gear_ratios_fixed"
   ]
  },
  {
   "cell_type": "code",
   "execution_count": null,
   "metadata": {},
   "outputs": [],
   "source": []
  }
 ],
 "metadata": {
  "kernelspec": {
   "display_name": "aoc23_venv",
   "language": "python",
   "name": "python3"
  },
  "language_info": {
   "codemirror_mode": {
    "name": "ipython",
    "version": 3
   },
   "file_extension": ".py",
   "mimetype": "text/x-python",
   "name": "python",
   "nbconvert_exporter": "python",
   "pygments_lexer": "ipython3",
   "version": "3.10.12"
  }
 },
 "nbformat": 4,
 "nbformat_minor": 2
}
